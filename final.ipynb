{
 "cells": [
  {
   "cell_type": "markdown",
   "metadata": {},
   "source": [
    "# Introduction\n",
    "This is a quick and dirty entry for the Kaggle [Titanic competition](https://www.kaggle.com/c/titanic).  The challenge is to identify which people survived using machine learning.  Evaluation is scored with accuracy of predicted survival where `1` is survived and `0` is deceased.\n",
    "\n",
    "I have another Notebook that delved deeper into the dataset and performed some feature engineering.  This Notebook does not do that as I am already familiar with the data."
   ]
  },
  {
   "cell_type": "markdown",
   "metadata": {},
   "source": [
    "# Importing Data\n",
    "Let's begin by importing the data."
   ]
  },
  {
   "cell_type": "code",
   "execution_count": 1,
   "metadata": {},
   "outputs": [],
   "source": [
    "import pandas as pd\n",
    "train = pd.read_csv('./data/train.csv')\n",
    "test = pd.read_csv('./data/test.csv')"
   ]
  },
  {
   "cell_type": "markdown",
   "metadata": {},
   "source": [
    "# Cleaning Data\n",
    "Let's begin by dropping unnecessary columns."
   ]
  },
  {
   "cell_type": "code",
   "execution_count": 2,
   "metadata": {},
   "outputs": [],
   "source": [
    "# `PassengerId` has no real impact upon survival rate.\n",
    "train.drop('PassengerId', axis=1, inplace=True)\n",
    "# `Ticket` numbers did not the survival rate in a meaningful way.\n",
    "train.drop('Ticket', axis=1, inplace=True)\n",
    "\n",
    "# Repeating for the test data, but keeping `PassengerID` as we need that!\n",
    "test.drop('Ticket', axis=1, inplace=True)"
   ]
  },
  {
   "cell_type": "markdown",
   "metadata": {},
   "source": [
    "`Age` has some missing values that can be imputed with the median.  `Embarked` has some missing values, but only in the test data, which can be filled with the mode.  `Fare` has missing values, but only in the test data, which can be filled with the median."
   ]
  },
  {
   "cell_type": "code",
   "execution_count": 3,
   "metadata": {},
   "outputs": [],
   "source": [
    "# Handle `Age` in both datasets.\n",
    "train.Age.fillna(train.Age.median(), inplace=True)\n",
    "test.Age.fillna(test.Age.median(), inplace=True)\n",
    "\n",
    "# Handle `Embarked` in the training data.\n",
    "train.Embarked.fillna(train.Embarked.mode()[0], inplace=True)\n",
    "\n",
    "# Handle `Fare` in the test data.\n",
    "test.Fare.fillna(test.Fare.median(), inplace=True)"
   ]
  },
  {
   "cell_type": "markdown",
   "metadata": {},
   "source": [
    "`Sex` is currently using text, so map it to integers."
   ]
  },
  {
   "cell_type": "code",
   "execution_count": 4,
   "metadata": {},
   "outputs": [],
   "source": [
    "train['Sex'] = train.Sex.map({'male': 1, 'female': 0})\n",
    "test['Sex'] = test.Sex.map({'male': 1, 'female': 0})"
   ]
  },
  {
   "cell_type": "markdown",
   "metadata": {},
   "source": [
    "`Fare` is rather skewed, so log it for nonzero entries."
   ]
  },
  {
   "cell_type": "code",
   "execution_count": 5,
   "metadata": {},
   "outputs": [],
   "source": [
    "import numpy as np\n",
    "train['Fare'] = np.log10(train.Fare.replace(0, np.nan)).replace(np.nan, 0)\n",
    "test['Fare'] = np.log10(test.Fare.replace(0, np.nan)).replace(np.nan, 0)"
   ]
  },
  {
   "cell_type": "markdown",
   "metadata": {},
   "source": [
    "`Age` surprisingly has little to no impact on the survival rate with my previous testing."
   ]
  },
  {
   "cell_type": "code",
   "execution_count": 6,
   "metadata": {},
   "outputs": [],
   "source": [
    "train.drop(['Age', 'SibSp', 'Parch'], axis=1, inplace=True)\n",
    "test.drop(['Age', 'SibSp', 'Parch'], axis=1, inplace=True)"
   ]
  },
  {
   "cell_type": "markdown",
   "metadata": {},
   "source": [
    "The `Cabin` has a lot of missing values, so replace them with an `X`."
   ]
  },
  {
   "cell_type": "code",
   "execution_count": 7,
   "metadata": {},
   "outputs": [],
   "source": [
    "train['Cabin'] = pd.Series([x[0] if not pd.isnull(x) else 'X' for x in train.Cabin])\n",
    "test['Cabin'] = pd.Series([x[0] if not pd.isnull(x) else 'X' for x in test.Cabin])"
   ]
  },
  {
   "cell_type": "markdown",
   "metadata": {},
   "source": [
    "The train data has a single cabin entry `T`, so just group him in `X` for simplicity."
   ]
  },
  {
   "cell_type": "code",
   "execution_count": 8,
   "metadata": {},
   "outputs": [],
   "source": [
    "train['Cabin'].replace('T', 'X', inplace=True)"
   ]
  },
  {
   "cell_type": "markdown",
   "metadata": {},
   "source": [
    "Looking at `Cabin`, survival rate is almost identical for different cabins, so group similar ones together."
   ]
  },
  {
   "cell_type": "code",
   "execution_count": 9,
   "metadata": {},
   "outputs": [],
   "source": [
    "# group cabins\n",
    "train['Cabin'] = train.Cabin.map({\n",
    "    'B': 'One', 'D': 'One', 'E': 'One',\n",
    "    'C': 'Two', 'F': 'Two',\n",
    "    'A': 'Three', 'G': 'Three',\n",
    "    'X': 'Four'\n",
    "})\n",
    "\n",
    "test['Cabin'] = test.Cabin.map({\n",
    "    'B': 'One', 'D': 'One', 'E': 'One',\n",
    "    'C': 'Two', 'F': 'Two',\n",
    "    'A': 'Three', 'G': 'Three',\n",
    "    'X': 'Four'\n",
    "})"
   ]
  },
  {
   "cell_type": "markdown",
   "metadata": {},
   "source": [
    "The same process for `Embarked`."
   ]
  },
  {
   "cell_type": "code",
   "execution_count": 10,
   "metadata": {},
   "outputs": [],
   "source": [
    "# group embarked\n",
    "train['Embarked'] = train.Embarked.map({\n",
    "    'S': 'One', 'Q': 'One',\n",
    "    'C': 'Two'\n",
    "})\n",
    "\n",
    "test['Embarked'] = test.Embarked.map({\n",
    "    'S': 'One', 'Q': 'One',\n",
    "    'C': 'Two'\n",
    "})"
   ]
  },
  {
   "cell_type": "markdown",
   "metadata": {},
   "source": [
    "Feature engineering `Name` didn't increase accuracy for me much in the past (and it clashes with `Sex` among some other variables), so just remeove it."
   ]
  },
  {
   "cell_type": "code",
   "execution_count": 11,
   "metadata": {},
   "outputs": [],
   "source": [
    "train.drop('Name', axis=1, inplace=True)\n",
    "test.drop('Name', axis=1, inplace=True)"
   ]
  },
  {
   "cell_type": "markdown",
   "metadata": {},
   "source": [
    "Convert categorical values into one-hot encoded values.  I'm not dropping the first element here as I want to check correlation of all of the generated columns."
   ]
  },
  {
   "cell_type": "code",
   "execution_count": 12,
   "metadata": {},
   "outputs": [],
   "source": [
    "train = pd.get_dummies(train)\n",
    "test = pd.get_dummies(test)"
   ]
  },
  {
   "cell_type": "markdown",
   "metadata": {},
   "source": [
    "# Feature Selection\n",
    "Let's now limit which columns we want to choose.  We can observe this by plotting the correlations, or alternatively, as I have below, we can also color a dataframe."
   ]
  },
  {
   "cell_type": "code",
   "execution_count": 13,
   "metadata": {},
   "outputs": [
    {
     "data": {
      "text/html": [
       "<style  type=\"text/css\" >\n",
       "    #T_f1fd2f46_b9a5_11e9_98f8_8c8590534409row0_col0 {\n",
       "            background-color:  #da3b46;\n",
       "            color:  #f1f1f1;\n",
       "        }    #T_f1fd2f46_b9a5_11e9_98f8_8c8590534409row0_col1 {\n",
       "            background-color:  #6e9fae;\n",
       "            color:  #000000;\n",
       "        }    #T_f1fd2f46_b9a5_11e9_98f8_8c8590534409row0_col2 {\n",
       "            background-color:  #3f7f93;\n",
       "            color:  #000000;\n",
       "        }    #T_f1fd2f46_b9a5_11e9_98f8_8c8590534409row0_col3 {\n",
       "            background-color:  #f8d8db;\n",
       "            color:  #000000;\n",
       "        }    #T_f1fd2f46_b9a5_11e9_98f8_8c8590534409row0_col4 {\n",
       "            background-color:  #74a3b1;\n",
       "            color:  #000000;\n",
       "        }    #T_f1fd2f46_b9a5_11e9_98f8_8c8590534409row0_col5 {\n",
       "            background-color:  #fae4e6;\n",
       "            color:  #000000;\n",
       "        }    #T_f1fd2f46_b9a5_11e9_98f8_8c8590534409row0_col6 {\n",
       "            background-color:  #c6dae1;\n",
       "            color:  #000000;\n",
       "        }    #T_f1fd2f46_b9a5_11e9_98f8_8c8590534409row0_col7 {\n",
       "            background-color:  #ddeaee;\n",
       "            color:  #000000;\n",
       "        }    #T_f1fd2f46_b9a5_11e9_98f8_8c8590534409row0_col8 {\n",
       "            background-color:  #98bbc6;\n",
       "            color:  #000000;\n",
       "        }    #T_f1fd2f46_b9a5_11e9_98f8_8c8590534409row0_col9 {\n",
       "            background-color:  #e8f1f4;\n",
       "            color:  #000000;\n",
       "        }    #T_f1fd2f46_b9a5_11e9_98f8_8c8590534409row1_col0 {\n",
       "            background-color:  #86afbc;\n",
       "            color:  #000000;\n",
       "        }    #T_f1fd2f46_b9a5_11e9_98f8_8c8590534409row1_col1 {\n",
       "            background-color:  #da3b46;\n",
       "            color:  #f1f1f1;\n",
       "        }    #T_f1fd2f46_b9a5_11e9_98f8_8c8590534409row1_col2 {\n",
       "            background-color:  #edf5f7;\n",
       "            color:  #000000;\n",
       "        }    #T_f1fd2f46_b9a5_11e9_98f8_8c8590534409row1_col3 {\n",
       "            background-color:  #3f7f93;\n",
       "            color:  #000000;\n",
       "        }    #T_f1fd2f46_b9a5_11e9_98f8_8c8590534409row1_col4 {\n",
       "            background-color:  #e5777f;\n",
       "            color:  #000000;\n",
       "        }    #T_f1fd2f46_b9a5_11e9_98f8_8c8590534409row1_col5 {\n",
       "            background-color:  #5b92a3;\n",
       "            color:  #000000;\n",
       "        }    #T_f1fd2f46_b9a5_11e9_98f8_8c8590534409row1_col6 {\n",
       "            background-color:  #aecbd3;\n",
       "            color:  #000000;\n",
       "        }    #T_f1fd2f46_b9a5_11e9_98f8_8c8590534409row1_col7 {\n",
       "            background-color:  #7fabb8;\n",
       "            color:  #000000;\n",
       "        }    #T_f1fd2f46_b9a5_11e9_98f8_8c8590534409row1_col8 {\n",
       "            background-color:  #f9e0e2;\n",
       "            color:  #000000;\n",
       "        }    #T_f1fd2f46_b9a5_11e9_98f8_8c8590534409row1_col9 {\n",
       "            background-color:  #9cbec9;\n",
       "            color:  #000000;\n",
       "        }    #T_f1fd2f46_b9a5_11e9_98f8_8c8590534409row2_col0 {\n",
       "            background-color:  #3f7f93;\n",
       "            color:  #000000;\n",
       "        }    #T_f1fd2f46_b9a5_11e9_98f8_8c8590534409row2_col1 {\n",
       "            background-color:  #dfecef;\n",
       "            color:  #000000;\n",
       "        }    #T_f1fd2f46_b9a5_11e9_98f8_8c8590534409row2_col2 {\n",
       "            background-color:  #da3b46;\n",
       "            color:  #f1f1f1;\n",
       "        }    #T_f1fd2f46_b9a5_11e9_98f8_8c8590534409row2_col3 {\n",
       "            background-color:  #81acb9;\n",
       "            color:  #000000;\n",
       "        }    #T_f1fd2f46_b9a5_11e9_98f8_8c8590534409row2_col4 {\n",
       "            background-color:  #e1edf0;\n",
       "            color:  #000000;\n",
       "        }    #T_f1fd2f46_b9a5_11e9_98f8_8c8590534409row2_col5 {\n",
       "            background-color:  #9cbec9;\n",
       "            color:  #000000;\n",
       "        }    #T_f1fd2f46_b9a5_11e9_98f8_8c8590534409row2_col6 {\n",
       "            background-color:  #c6dae1;\n",
       "            color:  #000000;\n",
       "        }    #T_f1fd2f46_b9a5_11e9_98f8_8c8590534409row2_col7 {\n",
       "            background-color:  #b1ccd5;\n",
       "            color:  #000000;\n",
       "        }    #T_f1fd2f46_b9a5_11e9_98f8_8c8590534409row2_col8 {\n",
       "            background-color:  #d3e3e8;\n",
       "            color:  #000000;\n",
       "        }    #T_f1fd2f46_b9a5_11e9_98f8_8c8590534409row2_col9 {\n",
       "            background-color:  #acc9d2;\n",
       "            color:  #000000;\n",
       "        }    #T_f1fd2f46_b9a5_11e9_98f8_8c8590534409row3_col0 {\n",
       "            background-color:  #f6cdd0;\n",
       "            color:  #000000;\n",
       "        }    #T_f1fd2f46_b9a5_11e9_98f8_8c8590534409row3_col1 {\n",
       "            background-color:  #3f7f93;\n",
       "            color:  #000000;\n",
       "        }    #T_f1fd2f46_b9a5_11e9_98f8_8c8590534409row3_col2 {\n",
       "            background-color:  #98bbc6;\n",
       "            color:  #000000;\n",
       "        }    #T_f1fd2f46_b9a5_11e9_98f8_8c8590534409row3_col3 {\n",
       "            background-color:  #da3b46;\n",
       "            color:  #f1f1f1;\n",
       "        }    #T_f1fd2f46_b9a5_11e9_98f8_8c8590534409row3_col4 {\n",
       "            background-color:  #568fa0;\n",
       "            color:  #000000;\n",
       "        }    #T_f1fd2f46_b9a5_11e9_98f8_8c8590534409row3_col5 {\n",
       "            background-color:  #f3bfc3;\n",
       "            color:  #000000;\n",
       "        }    #T_f1fd2f46_b9a5_11e9_98f8_8c8590534409row3_col6 {\n",
       "            background-color:  #ddeaee;\n",
       "            color:  #000000;\n",
       "        }    #T_f1fd2f46_b9a5_11e9_98f8_8c8590534409row3_col7 {\n",
       "            background-color:  #f5cacd;\n",
       "            color:  #000000;\n",
       "        }    #T_f1fd2f46_b9a5_11e9_98f8_8c8590534409row3_col8 {\n",
       "            background-color:  #98bbc6;\n",
       "            color:  #000000;\n",
       "        }    #T_f1fd2f46_b9a5_11e9_98f8_8c8590534409row3_col9 {\n",
       "            background-color:  #f9dddf;\n",
       "            color:  #000000;\n",
       "        }    #T_f1fd2f46_b9a5_11e9_98f8_8c8590534409row4_col0 {\n",
       "            background-color:  #90b6c2;\n",
       "            color:  #000000;\n",
       "        }    #T_f1fd2f46_b9a5_11e9_98f8_8c8590534409row4_col1 {\n",
       "            background-color:  #e5767e;\n",
       "            color:  #000000;\n",
       "        }    #T_f1fd2f46_b9a5_11e9_98f8_8c8590534409row4_col2 {\n",
       "            background-color:  #f2f2f2;\n",
       "            color:  #000000;\n",
       "        }    #T_f1fd2f46_b9a5_11e9_98f8_8c8590534409row4_col3 {\n",
       "            background-color:  #5b92a3;\n",
       "            color:  #000000;\n",
       "        }    #T_f1fd2f46_b9a5_11e9_98f8_8c8590534409row4_col4 {\n",
       "            background-color:  #da3b46;\n",
       "            color:  #f1f1f1;\n",
       "        }    #T_f1fd2f46_b9a5_11e9_98f8_8c8590534409row4_col5 {\n",
       "            background-color:  #3f7f93;\n",
       "            color:  #000000;\n",
       "        }    #T_f1fd2f46_b9a5_11e9_98f8_8c8590534409row4_col6 {\n",
       "            background-color:  #9bbdc8;\n",
       "            color:  #000000;\n",
       "        }    #T_f1fd2f46_b9a5_11e9_98f8_8c8590534409row4_col7 {\n",
       "            background-color:  #5e95a5;\n",
       "            color:  #000000;\n",
       "        }    #T_f1fd2f46_b9a5_11e9_98f8_8c8590534409row4_col8 {\n",
       "            background-color:  #fae5e7;\n",
       "            color:  #000000;\n",
       "        }    #T_f1fd2f46_b9a5_11e9_98f8_8c8590534409row4_col9 {\n",
       "            background-color:  #a8c6cf;\n",
       "            color:  #000000;\n",
       "        }    #T_f1fd2f46_b9a5_11e9_98f8_8c8590534409row5_col0 {\n",
       "            background-color:  #f7d4d7;\n",
       "            color:  #000000;\n",
       "        }    #T_f1fd2f46_b9a5_11e9_98f8_8c8590534409row5_col1 {\n",
       "            background-color:  #6196a7;\n",
       "            color:  #000000;\n",
       "        }    #T_f1fd2f46_b9a5_11e9_98f8_8c8590534409row5_col2 {\n",
       "            background-color:  #b6d0d7;\n",
       "            color:  #000000;\n",
       "        }    #T_f1fd2f46_b9a5_11e9_98f8_8c8590534409row5_col3 {\n",
       "            background-color:  #f2bcc0;\n",
       "            color:  #000000;\n",
       "        }    #T_f1fd2f46_b9a5_11e9_98f8_8c8590534409row5_col4 {\n",
       "            background-color:  #3f7f93;\n",
       "            color:  #000000;\n",
       "        }    #T_f1fd2f46_b9a5_11e9_98f8_8c8590534409row5_col5 {\n",
       "            background-color:  #da3b46;\n",
       "            color:  #f1f1f1;\n",
       "        }    #T_f1fd2f46_b9a5_11e9_98f8_8c8590534409row5_col6 {\n",
       "            background-color:  #c8dce2;\n",
       "            color:  #000000;\n",
       "        }    #T_f1fd2f46_b9a5_11e9_98f8_8c8590534409row5_col7 {\n",
       "            background-color:  #bdd4db;\n",
       "            color:  #000000;\n",
       "        }    #T_f1fd2f46_b9a5_11e9_98f8_8c8590534409row5_col8 {\n",
       "            background-color:  #b1ccd5;\n",
       "            color:  #000000;\n",
       "        }    #T_f1fd2f46_b9a5_11e9_98f8_8c8590534409row5_col9 {\n",
       "            background-color:  #f2f2f2;\n",
       "            color:  #000000;\n",
       "        }    #T_f1fd2f46_b9a5_11e9_98f8_8c8590534409row6_col0 {\n",
       "            background-color:  #94b9c4;\n",
       "            color:  #000000;\n",
       "        }    #T_f1fd2f46_b9a5_11e9_98f8_8c8590534409row6_col1 {\n",
       "            background-color:  #6095a6;\n",
       "            color:  #000000;\n",
       "        }    #T_f1fd2f46_b9a5_11e9_98f8_8c8590534409row6_col2 {\n",
       "            background-color:  #94b9c4;\n",
       "            color:  #000000;\n",
       "        }    #T_f1fd2f46_b9a5_11e9_98f8_8c8590534409row6_col3 {\n",
       "            background-color:  #9cbec9;\n",
       "            color:  #000000;\n",
       "        }    #T_f1fd2f46_b9a5_11e9_98f8_8c8590534409row6_col4 {\n",
       "            background-color:  #3f7f93;\n",
       "            color:  #000000;\n",
       "        }    #T_f1fd2f46_b9a5_11e9_98f8_8c8590534409row6_col5 {\n",
       "            background-color:  #7ca9b6;\n",
       "            color:  #000000;\n",
       "        }    #T_f1fd2f46_b9a5_11e9_98f8_8c8590534409row6_col6 {\n",
       "            background-color:  #da3b46;\n",
       "            color:  #f1f1f1;\n",
       "        }    #T_f1fd2f46_b9a5_11e9_98f8_8c8590534409row6_col7 {\n",
       "            background-color:  #7fabb8;\n",
       "            color:  #000000;\n",
       "        }    #T_f1fd2f46_b9a5_11e9_98f8_8c8590534409row6_col8 {\n",
       "            background-color:  #7aa7b5;\n",
       "            color:  #000000;\n",
       "        }    #T_f1fd2f46_b9a5_11e9_98f8_8c8590534409row6_col9 {\n",
       "            background-color:  #a0c1cb;\n",
       "            color:  #000000;\n",
       "        }    #T_f1fd2f46_b9a5_11e9_98f8_8c8590534409row7_col0 {\n",
       "            background-color:  #ddeaee;\n",
       "            color:  #000000;\n",
       "        }    #T_f1fd2f46_b9a5_11e9_98f8_8c8590534409row7_col1 {\n",
       "            background-color:  #679aaa;\n",
       "            color:  #000000;\n",
       "        }    #T_f1fd2f46_b9a5_11e9_98f8_8c8590534409row7_col2 {\n",
       "            background-color:  #b1ccd5;\n",
       "            color:  #000000;\n",
       "        }    #T_f1fd2f46_b9a5_11e9_98f8_8c8590534409row7_col3 {\n",
       "            background-color:  #f7d6d8;\n",
       "            color:  #000000;\n",
       "        }    #T_f1fd2f46_b9a5_11e9_98f8_8c8590534409row7_col4 {\n",
       "            background-color:  #3f7f93;\n",
       "            color:  #000000;\n",
       "        }    #T_f1fd2f46_b9a5_11e9_98f8_8c8590534409row7_col5 {\n",
       "            background-color:  #a4c4cd;\n",
       "            color:  #000000;\n",
       "        }    #T_f1fd2f46_b9a5_11e9_98f8_8c8590534409row7_col6 {\n",
       "            background-color:  #b6d0d7;\n",
       "            color:  #000000;\n",
       "        }    #T_f1fd2f46_b9a5_11e9_98f8_8c8590534409row7_col7 {\n",
       "            background-color:  #da3b46;\n",
       "            color:  #f1f1f1;\n",
       "        }    #T_f1fd2f46_b9a5_11e9_98f8_8c8590534409row7_col8 {\n",
       "            background-color:  #aac8d1;\n",
       "            color:  #000000;\n",
       "        }    #T_f1fd2f46_b9a5_11e9_98f8_8c8590534409row7_col9 {\n",
       "            background-color:  #d5e5ea;\n",
       "            color:  #000000;\n",
       "        }    #T_f1fd2f46_b9a5_11e9_98f8_8c8590534409row8_col0 {\n",
       "            background-color:  #d7e6ea;\n",
       "            color:  #000000;\n",
       "        }    #T_f1fd2f46_b9a5_11e9_98f8_8c8590534409row8_col1 {\n",
       "            background-color:  #f4c4c8;\n",
       "            color:  #000000;\n",
       "        }    #T_f1fd2f46_b9a5_11e9_98f8_8c8590534409row8_col2 {\n",
       "            background-color:  #fae3e4;\n",
       "            color:  #000000;\n",
       "        }    #T_f1fd2f46_b9a5_11e9_98f8_8c8590534409row8_col3 {\n",
       "            background-color:  #c6dae1;\n",
       "            color:  #000000;\n",
       "        }    #T_f1fd2f46_b9a5_11e9_98f8_8c8590534409row8_col4 {\n",
       "            background-color:  #f5cbce;\n",
       "            color:  #000000;\n",
       "        }    #T_f1fd2f46_b9a5_11e9_98f8_8c8590534409row8_col5 {\n",
       "            background-color:  #d8e7eb;\n",
       "            color:  #000000;\n",
       "        }    #T_f1fd2f46_b9a5_11e9_98f8_8c8590534409row8_col6 {\n",
       "            background-color:  #e9f2f5;\n",
       "            color:  #000000;\n",
       "        }    #T_f1fd2f46_b9a5_11e9_98f8_8c8590534409row8_col7 {\n",
       "            background-color:  #e5eff3;\n",
       "            color:  #000000;\n",
       "        }    #T_f1fd2f46_b9a5_11e9_98f8_8c8590534409row8_col8 {\n",
       "            background-color:  #da3b46;\n",
       "            color:  #f1f1f1;\n",
       "        }    #T_f1fd2f46_b9a5_11e9_98f8_8c8590534409row8_col9 {\n",
       "            background-color:  #3f7f93;\n",
       "            color:  #000000;\n",
       "        }    #T_f1fd2f46_b9a5_11e9_98f8_8c8590534409row9_col0 {\n",
       "            background-color:  #f7d3d6;\n",
       "            color:  #000000;\n",
       "        }    #T_f1fd2f46_b9a5_11e9_98f8_8c8590534409row9_col1 {\n",
       "            background-color:  #c8dce2;\n",
       "            color:  #000000;\n",
       "        }    #T_f1fd2f46_b9a5_11e9_98f8_8c8590534409row9_col2 {\n",
       "            background-color:  #e6f0f3;\n",
       "            color:  #000000;\n",
       "        }    #T_f1fd2f46_b9a5_11e9_98f8_8c8590534409row9_col3 {\n",
       "            background-color:  #f3c2c5;\n",
       "            color:  #000000;\n",
       "        }    #T_f1fd2f46_b9a5_11e9_98f8_8c8590534409row9_col4 {\n",
       "            background-color:  #cfe1e6;\n",
       "            color:  #000000;\n",
       "        }    #T_f1fd2f46_b9a5_11e9_98f8_8c8590534409row9_col5 {\n",
       "            background-color:  #f7d4d7;\n",
       "            color:  #000000;\n",
       "        }    #T_f1fd2f46_b9a5_11e9_98f8_8c8590534409row9_col6 {\n",
       "            background-color:  #fae5e7;\n",
       "            color:  #000000;\n",
       "        }    #T_f1fd2f46_b9a5_11e9_98f8_8c8590534409row9_col7 {\n",
       "            background-color:  #f9e1e3;\n",
       "            color:  #000000;\n",
       "        }    #T_f1fd2f46_b9a5_11e9_98f8_8c8590534409row9_col8 {\n",
       "            background-color:  #3f7f93;\n",
       "            color:  #000000;\n",
       "        }    #T_f1fd2f46_b9a5_11e9_98f8_8c8590534409row9_col9 {\n",
       "            background-color:  #da3b46;\n",
       "            color:  #f1f1f1;\n",
       "        }</style><table id=\"T_f1fd2f46_b9a5_11e9_98f8_8c8590534409\" ><thead>    <tr>        <th class=\"blank level0\" ></th>        <th class=\"col_heading level0 col0\" >Survived</th>        <th class=\"col_heading level0 col1\" >Pclass</th>        <th class=\"col_heading level0 col2\" >Sex</th>        <th class=\"col_heading level0 col3\" >Fare</th>        <th class=\"col_heading level0 col4\" >Cabin_Four</th>        <th class=\"col_heading level0 col5\" >Cabin_One</th>        <th class=\"col_heading level0 col6\" >Cabin_Three</th>        <th class=\"col_heading level0 col7\" >Cabin_Two</th>        <th class=\"col_heading level0 col8\" >Embarked_One</th>        <th class=\"col_heading level0 col9\" >Embarked_Two</th>    </tr></thead><tbody>\n",
       "                <tr>\n",
       "                        <th id=\"T_f1fd2f46_b9a5_11e9_98f8_8c8590534409level0_row0\" class=\"row_heading level0 row0\" >Survived</th>\n",
       "                        <td id=\"T_f1fd2f46_b9a5_11e9_98f8_8c8590534409row0_col0\" class=\"data row0 col0\" >1</td>\n",
       "                        <td id=\"T_f1fd2f46_b9a5_11e9_98f8_8c8590534409row0_col1\" class=\"data row0 col1\" >-0.338481</td>\n",
       "                        <td id=\"T_f1fd2f46_b9a5_11e9_98f8_8c8590534409row0_col2\" class=\"data row0 col2\" >-0.543351</td>\n",
       "                        <td id=\"T_f1fd2f46_b9a5_11e9_98f8_8c8590534409row0_col3\" class=\"data row0 col3\" >0.331805</td>\n",
       "                        <td id=\"T_f1fd2f46_b9a5_11e9_98f8_8c8590534409row0_col4\" class=\"data row0 col4\" >-0.319572</td>\n",
       "                        <td id=\"T_f1fd2f46_b9a5_11e9_98f8_8c8590534409row0_col5\" class=\"data row0 col5\" >0.28549</td>\n",
       "                        <td id=\"T_f1fd2f46_b9a5_11e9_98f8_8c8590534409row0_col6\" class=\"data row0 col6\" >0.0272706</td>\n",
       "                        <td id=\"T_f1fd2f46_b9a5_11e9_98f8_8c8590534409row0_col7\" class=\"data row0 col7\" >0.130096</td>\n",
       "                        <td id=\"T_f1fd2f46_b9a5_11e9_98f8_8c8590534409row0_col8\" class=\"data row0 col8\" >-0.16824</td>\n",
       "                        <td id=\"T_f1fd2f46_b9a5_11e9_98f8_8c8590534409row0_col9\" class=\"data row0 col9\" >0.16824</td>\n",
       "            </tr>\n",
       "            <tr>\n",
       "                        <th id=\"T_f1fd2f46_b9a5_11e9_98f8_8c8590534409level0_row1\" class=\"row_heading level0 row1\" >Pclass</th>\n",
       "                        <td id=\"T_f1fd2f46_b9a5_11e9_98f8_8c8590534409row1_col0\" class=\"data row1 col0\" >-0.338481</td>\n",
       "                        <td id=\"T_f1fd2f46_b9a5_11e9_98f8_8c8590534409row1_col1\" class=\"data row1 col1\" >1</td>\n",
       "                        <td id=\"T_f1fd2f46_b9a5_11e9_98f8_8c8590534409row1_col2\" class=\"data row1 col2\" >0.1319</td>\n",
       "                        <td id=\"T_f1fd2f46_b9a5_11e9_98f8_8c8590534409row1_col3\" class=\"data row1 col3\" >-0.670489</td>\n",
       "                        <td id=\"T_f1fd2f46_b9a5_11e9_98f8_8c8590534409row1_col4\" class=\"data row1 col4\" >0.722607</td>\n",
       "                        <td id=\"T_f1fd2f46_b9a5_11e9_98f8_8c8590534409row1_col5\" class=\"data row1 col5\" >-0.537107</td>\n",
       "                        <td id=\"T_f1fd2f46_b9a5_11e9_98f8_8c8590534409row1_col6\" class=\"data row1 col6\" >-0.156795</td>\n",
       "                        <td id=\"T_f1fd2f46_b9a5_11e9_98f8_8c8590534409row1_col7\" class=\"data row1 col7\" >-0.375642</td>\n",
       "                        <td id=\"T_f1fd2f46_b9a5_11e9_98f8_8c8590534409row1_col8\" class=\"data row1 col8\" >0.243292</td>\n",
       "                        <td id=\"T_f1fd2f46_b9a5_11e9_98f8_8c8590534409row1_col9\" class=\"data row1 col9\" >-0.243292</td>\n",
       "            </tr>\n",
       "            <tr>\n",
       "                        <th id=\"T_f1fd2f46_b9a5_11e9_98f8_8c8590534409level0_row2\" class=\"row_heading level0 row2\" >Sex</th>\n",
       "                        <td id=\"T_f1fd2f46_b9a5_11e9_98f8_8c8590534409row2_col0\" class=\"data row2 col0\" >-0.543351</td>\n",
       "                        <td id=\"T_f1fd2f46_b9a5_11e9_98f8_8c8590534409row2_col1\" class=\"data row2 col1\" >0.1319</td>\n",
       "                        <td id=\"T_f1fd2f46_b9a5_11e9_98f8_8c8590534409row2_col2\" class=\"data row2 col2\" >1</td>\n",
       "                        <td id=\"T_f1fd2f46_b9a5_11e9_98f8_8c8590534409row2_col3\" class=\"data row2 col3\" >-0.264751</td>\n",
       "                        <td id=\"T_f1fd2f46_b9a5_11e9_98f8_8c8590534409row2_col4\" class=\"data row2 col4\" >0.142608</td>\n",
       "                        <td id=\"T_f1fd2f46_b9a5_11e9_98f8_8c8590534409row2_col5\" class=\"data row2 col5\" >-0.145489</td>\n",
       "                        <td id=\"T_f1fd2f46_b9a5_11e9_98f8_8c8590534409row2_col6\" class=\"data row2 col6\" >0.0275789</td>\n",
       "                        <td id=\"T_f1fd2f46_b9a5_11e9_98f8_8c8590534409row2_col7\" class=\"data row2 col7\" >-0.0571196</td>\n",
       "                        <td id=\"T_f1fd2f46_b9a5_11e9_98f8_8c8590534409row2_col8\" class=\"data row2 col8\" >0.0828535</td>\n",
       "                        <td id=\"T_f1fd2f46_b9a5_11e9_98f8_8c8590534409row2_col9\" class=\"data row2 col9\" >-0.0828535</td>\n",
       "            </tr>\n",
       "            <tr>\n",
       "                        <th id=\"T_f1fd2f46_b9a5_11e9_98f8_8c8590534409level0_row3\" class=\"row_heading level0 row3\" >Fare</th>\n",
       "                        <td id=\"T_f1fd2f46_b9a5_11e9_98f8_8c8590534409row3_col0\" class=\"data row3 col0\" >0.331805</td>\n",
       "                        <td id=\"T_f1fd2f46_b9a5_11e9_98f8_8c8590534409row3_col1\" class=\"data row3 col1\" >-0.670489</td>\n",
       "                        <td id=\"T_f1fd2f46_b9a5_11e9_98f8_8c8590534409row3_col2\" class=\"data row3 col2\" >-0.264751</td>\n",
       "                        <td id=\"T_f1fd2f46_b9a5_11e9_98f8_8c8590534409row3_col3\" class=\"data row3 col3\" >1</td>\n",
       "                        <td id=\"T_f1fd2f46_b9a5_11e9_98f8_8c8590534409row3_col4\" class=\"data row3 col4\" >-0.56036</td>\n",
       "                        <td id=\"T_f1fd2f46_b9a5_11e9_98f8_8c8590534409row3_col5\" class=\"data row3 col5\" >0.399484</td>\n",
       "                        <td id=\"T_f1fd2f46_b9a5_11e9_98f8_8c8590534409row3_col6\" class=\"data row3 col6\" >0.0554034</td>\n",
       "                        <td id=\"T_f1fd2f46_b9a5_11e9_98f8_8c8590534409row3_col7\" class=\"data row3 col7\" >0.347093</td>\n",
       "                        <td id=\"T_f1fd2f46_b9a5_11e9_98f8_8c8590534409row3_col8\" class=\"data row3 col8\" >-0.261367</td>\n",
       "                        <td id=\"T_f1fd2f46_b9a5_11e9_98f8_8c8590534409row3_col9\" class=\"data row3 col9\" >0.261367</td>\n",
       "            </tr>\n",
       "            <tr>\n",
       "                        <th id=\"T_f1fd2f46_b9a5_11e9_98f8_8c8590534409level0_row4\" class=\"row_heading level0 row4\" >Cabin_Four</th>\n",
       "                        <td id=\"T_f1fd2f46_b9a5_11e9_98f8_8c8590534409row4_col0\" class=\"data row4 col0\" >-0.319572</td>\n",
       "                        <td id=\"T_f1fd2f46_b9a5_11e9_98f8_8c8590534409row4_col1\" class=\"data row4 col1\" >0.722607</td>\n",
       "                        <td id=\"T_f1fd2f46_b9a5_11e9_98f8_8c8590534409row4_col2\" class=\"data row4 col2\" >0.142608</td>\n",
       "                        <td id=\"T_f1fd2f46_b9a5_11e9_98f8_8c8590534409row4_col3\" class=\"data row4 col3\" >-0.56036</td>\n",
       "                        <td id=\"T_f1fd2f46_b9a5_11e9_98f8_8c8590534409row4_col4\" class=\"data row4 col4\" >1</td>\n",
       "                        <td id=\"T_f1fd2f46_b9a5_11e9_98f8_8c8590534409row4_col5\" class=\"data row4 col5\" >-0.69805</td>\n",
       "                        <td id=\"T_f1fd2f46_b9a5_11e9_98f8_8c8590534409row4_col6\" class=\"data row4 col6\" >-0.271747</td>\n",
       "                        <td id=\"T_f1fd2f46_b9a5_11e9_98f8_8c8590534409row4_col7\" class=\"data row4 col7\" >-0.545846</td>\n",
       "                        <td id=\"T_f1fd2f46_b9a5_11e9_98f8_8c8590534409row4_col8\" class=\"data row4 col8\" >0.210178</td>\n",
       "                        <td id=\"T_f1fd2f46_b9a5_11e9_98f8_8c8590534409row4_col9\" class=\"data row4 col9\" >-0.210178</td>\n",
       "            </tr>\n",
       "            <tr>\n",
       "                        <th id=\"T_f1fd2f46_b9a5_11e9_98f8_8c8590534409level0_row5\" class=\"row_heading level0 row5\" >Cabin_One</th>\n",
       "                        <td id=\"T_f1fd2f46_b9a5_11e9_98f8_8c8590534409row5_col0\" class=\"data row5 col0\" >0.28549</td>\n",
       "                        <td id=\"T_f1fd2f46_b9a5_11e9_98f8_8c8590534409row5_col1\" class=\"data row5 col1\" >-0.537107</td>\n",
       "                        <td id=\"T_f1fd2f46_b9a5_11e9_98f8_8c8590534409row5_col2\" class=\"data row5 col2\" >-0.145489</td>\n",
       "                        <td id=\"T_f1fd2f46_b9a5_11e9_98f8_8c8590534409row5_col3\" class=\"data row5 col3\" >0.399484</td>\n",
       "                        <td id=\"T_f1fd2f46_b9a5_11e9_98f8_8c8590534409row5_col4\" class=\"data row5 col4\" >-0.69805</td>\n",
       "                        <td id=\"T_f1fd2f46_b9a5_11e9_98f8_8c8590534409row5_col5\" class=\"data row5 col5\" >1</td>\n",
       "                        <td id=\"T_f1fd2f46_b9a5_11e9_98f8_8c8590534409row5_col6\" class=\"data row5 col6\" >-0.0559705</td>\n",
       "                        <td id=\"T_f1fd2f46_b9a5_11e9_98f8_8c8590534409row5_col7\" class=\"data row5 col7\" >-0.112425</td>\n",
       "                        <td id=\"T_f1fd2f46_b9a5_11e9_98f8_8c8590534409row5_col8\" class=\"data row5 col8\" >-0.163428</td>\n",
       "                        <td id=\"T_f1fd2f46_b9a5_11e9_98f8_8c8590534409row5_col9\" class=\"data row5 col9\" >0.163428</td>\n",
       "            </tr>\n",
       "            <tr>\n",
       "                        <th id=\"T_f1fd2f46_b9a5_11e9_98f8_8c8590534409level0_row6\" class=\"row_heading level0 row6\" >Cabin_Three</th>\n",
       "                        <td id=\"T_f1fd2f46_b9a5_11e9_98f8_8c8590534409row6_col0\" class=\"data row6 col0\" >0.0272706</td>\n",
       "                        <td id=\"T_f1fd2f46_b9a5_11e9_98f8_8c8590534409row6_col1\" class=\"data row6 col1\" >-0.156795</td>\n",
       "                        <td id=\"T_f1fd2f46_b9a5_11e9_98f8_8c8590534409row6_col2\" class=\"data row6 col2\" >0.0275789</td>\n",
       "                        <td id=\"T_f1fd2f46_b9a5_11e9_98f8_8c8590534409row6_col3\" class=\"data row6 col3\" >0.0554034</td>\n",
       "                        <td id=\"T_f1fd2f46_b9a5_11e9_98f8_8c8590534409row6_col4\" class=\"data row6 col4\" >-0.271747</td>\n",
       "                        <td id=\"T_f1fd2f46_b9a5_11e9_98f8_8c8590534409row6_col5\" class=\"data row6 col5\" >-0.0559705</td>\n",
       "                        <td id=\"T_f1fd2f46_b9a5_11e9_98f8_8c8590534409row6_col6\" class=\"data row6 col6\" >1</td>\n",
       "                        <td id=\"T_f1fd2f46_b9a5_11e9_98f8_8c8590534409row6_col7\" class=\"data row6 col7\" >-0.0437666</td>\n",
       "                        <td id=\"T_f1fd2f46_b9a5_11e9_98f8_8c8590534409row6_col8\" class=\"data row6 col8\" >-0.0678779</td>\n",
       "                        <td id=\"T_f1fd2f46_b9a5_11e9_98f8_8c8590534409row6_col9\" class=\"data row6 col9\" >0.0678779</td>\n",
       "            </tr>\n",
       "            <tr>\n",
       "                        <th id=\"T_f1fd2f46_b9a5_11e9_98f8_8c8590534409level0_row7\" class=\"row_heading level0 row7\" >Cabin_Two</th>\n",
       "                        <td id=\"T_f1fd2f46_b9a5_11e9_98f8_8c8590534409row7_col0\" class=\"data row7 col0\" >0.130096</td>\n",
       "                        <td id=\"T_f1fd2f46_b9a5_11e9_98f8_8c8590534409row7_col1\" class=\"data row7 col1\" >-0.375642</td>\n",
       "                        <td id=\"T_f1fd2f46_b9a5_11e9_98f8_8c8590534409row7_col2\" class=\"data row7 col2\" >-0.0571196</td>\n",
       "                        <td id=\"T_f1fd2f46_b9a5_11e9_98f8_8c8590534409row7_col3\" class=\"data row7 col3\" >0.347093</td>\n",
       "                        <td id=\"T_f1fd2f46_b9a5_11e9_98f8_8c8590534409row7_col4\" class=\"data row7 col4\" >-0.545846</td>\n",
       "                        <td id=\"T_f1fd2f46_b9a5_11e9_98f8_8c8590534409row7_col5\" class=\"data row7 col5\" >-0.112425</td>\n",
       "                        <td id=\"T_f1fd2f46_b9a5_11e9_98f8_8c8590534409row7_col6\" class=\"data row7 col6\" >-0.0437666</td>\n",
       "                        <td id=\"T_f1fd2f46_b9a5_11e9_98f8_8c8590534409row7_col7\" class=\"data row7 col7\" >1</td>\n",
       "                        <td id=\"T_f1fd2f46_b9a5_11e9_98f8_8c8590534409row7_col8\" class=\"data row7 col8\" >-0.0886904</td>\n",
       "                        <td id=\"T_f1fd2f46_b9a5_11e9_98f8_8c8590534409row7_col9\" class=\"data row7 col9\" >0.0886904</td>\n",
       "            </tr>\n",
       "            <tr>\n",
       "                        <th id=\"T_f1fd2f46_b9a5_11e9_98f8_8c8590534409level0_row8\" class=\"row_heading level0 row8\" >Embarked_One</th>\n",
       "                        <td id=\"T_f1fd2f46_b9a5_11e9_98f8_8c8590534409row8_col0\" class=\"data row8 col0\" >-0.16824</td>\n",
       "                        <td id=\"T_f1fd2f46_b9a5_11e9_98f8_8c8590534409row8_col1\" class=\"data row8 col1\" >0.243292</td>\n",
       "                        <td id=\"T_f1fd2f46_b9a5_11e9_98f8_8c8590534409row8_col2\" class=\"data row8 col2\" >0.0828535</td>\n",
       "                        <td id=\"T_f1fd2f46_b9a5_11e9_98f8_8c8590534409row8_col3\" class=\"data row8 col3\" >-0.261367</td>\n",
       "                        <td id=\"T_f1fd2f46_b9a5_11e9_98f8_8c8590534409row8_col4\" class=\"data row8 col4\" >0.210178</td>\n",
       "                        <td id=\"T_f1fd2f46_b9a5_11e9_98f8_8c8590534409row8_col5\" class=\"data row8 col5\" >-0.163428</td>\n",
       "                        <td id=\"T_f1fd2f46_b9a5_11e9_98f8_8c8590534409row8_col6\" class=\"data row8 col6\" >-0.0678779</td>\n",
       "                        <td id=\"T_f1fd2f46_b9a5_11e9_98f8_8c8590534409row8_col7\" class=\"data row8 col7\" >-0.0886904</td>\n",
       "                        <td id=\"T_f1fd2f46_b9a5_11e9_98f8_8c8590534409row8_col8\" class=\"data row8 col8\" >1</td>\n",
       "                        <td id=\"T_f1fd2f46_b9a5_11e9_98f8_8c8590534409row8_col9\" class=\"data row8 col9\" >-1</td>\n",
       "            </tr>\n",
       "            <tr>\n",
       "                        <th id=\"T_f1fd2f46_b9a5_11e9_98f8_8c8590534409level0_row9\" class=\"row_heading level0 row9\" >Embarked_Two</th>\n",
       "                        <td id=\"T_f1fd2f46_b9a5_11e9_98f8_8c8590534409row9_col0\" class=\"data row9 col0\" >0.16824</td>\n",
       "                        <td id=\"T_f1fd2f46_b9a5_11e9_98f8_8c8590534409row9_col1\" class=\"data row9 col1\" >-0.243292</td>\n",
       "                        <td id=\"T_f1fd2f46_b9a5_11e9_98f8_8c8590534409row9_col2\" class=\"data row9 col2\" >-0.0828535</td>\n",
       "                        <td id=\"T_f1fd2f46_b9a5_11e9_98f8_8c8590534409row9_col3\" class=\"data row9 col3\" >0.261367</td>\n",
       "                        <td id=\"T_f1fd2f46_b9a5_11e9_98f8_8c8590534409row9_col4\" class=\"data row9 col4\" >-0.210178</td>\n",
       "                        <td id=\"T_f1fd2f46_b9a5_11e9_98f8_8c8590534409row9_col5\" class=\"data row9 col5\" >0.163428</td>\n",
       "                        <td id=\"T_f1fd2f46_b9a5_11e9_98f8_8c8590534409row9_col6\" class=\"data row9 col6\" >0.0678779</td>\n",
       "                        <td id=\"T_f1fd2f46_b9a5_11e9_98f8_8c8590534409row9_col7\" class=\"data row9 col7\" >0.0886904</td>\n",
       "                        <td id=\"T_f1fd2f46_b9a5_11e9_98f8_8c8590534409row9_col8\" class=\"data row9 col8\" >-1</td>\n",
       "                        <td id=\"T_f1fd2f46_b9a5_11e9_98f8_8c8590534409row9_col9\" class=\"data row9 col9\" >1</td>\n",
       "            </tr>\n",
       "    </tbody></table>"
      ],
      "text/plain": [
       "<pandas.io.formats.style.Styler at 0x1159c8da0>"
      ]
     },
     "execution_count": 13,
     "metadata": {},
     "output_type": "execute_result"
    }
   ],
   "source": [
    "import seaborn as sns\n",
    "train.corr().style.background_gradient(sns.diverging_palette(220, 10, as_cmap=True), axis=1)"
   ]
  },
  {
   "cell_type": "markdown",
   "metadata": {},
   "source": [
    "Before we trim our dataset, let's store and drop the `PassengerId` from the test dataset."
   ]
  },
  {
   "cell_type": "code",
   "execution_count": 14,
   "metadata": {},
   "outputs": [],
   "source": [
    "test_passenger_ids = test.PassengerId\n",
    "test.drop('PassengerId', axis=1, inplace=True)"
   ]
  },
  {
   "cell_type": "markdown",
   "metadata": {},
   "source": [
    "In this case, I am choosing `Pclass`, `Sex`, and `Fare`, as they have the highest correlation with the `Survived` column.  I was going to include `Cabin_Four` and/or `Cabin_One` too, but their correlation with `Pclass` is rather high, which could make the model perform worse!"
   ]
  },
  {
   "cell_type": "code",
   "execution_count": 15,
   "metadata": {},
   "outputs": [],
   "source": [
    "# Keeping:\n",
    "# Pclass (-0.33, 0.69)\n",
    "# Sex (-0.54, 0.22)\n",
    "# Fare (0.33, 0.18)\n",
    "train = train[['Survived', 'Pclass', 'Sex', 'Fare']]\n",
    "test = test[['Pclass', 'Sex', 'Fare']]"
   ]
  },
  {
   "cell_type": "markdown",
   "metadata": {},
   "source": [
    "Create the features (or `X`) and labels (or `y`) for training."
   ]
  },
  {
   "cell_type": "code",
   "execution_count": 16,
   "metadata": {},
   "outputs": [],
   "source": [
    "features = train.drop('Survived', axis=1)\n",
    "labels = train.Survived"
   ]
  },
  {
   "cell_type": "markdown",
   "metadata": {},
   "source": [
    "A final step is scaling the data since it's not all on the same scale."
   ]
  },
  {
   "cell_type": "code",
   "execution_count": 17,
   "metadata": {},
   "outputs": [],
   "source": [
    "from sklearn.preprocessing import MinMaxScaler\n",
    "\n",
    "scaler = MinMaxScaler()\n",
    "features[features.columns] = scaler.fit_transform(features)\n",
    "test[test.columns] = scaler.transform(test)"
   ]
  },
  {
   "cell_type": "markdown",
   "metadata": {},
   "source": [
    "# Training and Submitting\n",
    "Now we can train!  Below is a helper function from sklearn's documentation for plotting learning curves."
   ]
  },
  {
   "cell_type": "code",
   "execution_count": 22,
   "metadata": {},
   "outputs": [],
   "source": [
    "import matplotlib.pyplot as plt\n",
    "%matplotlib inline\n",
    "\n",
    "# https://scikit-learn.org/stable/auto_examples/model_selection/plot_learning_curve.html\n",
    "from sklearn.model_selection import learning_curve\n",
    "def plot_learning_curve(estimator, title, X, y, ylim=None, cv=None, n_jobs=None, train_sizes=np.linspace(.1, 1.0, 5)):\n",
    "    plt.figure()\n",
    "    plt.title(title)\n",
    "    if ylim is not None:\n",
    "        plt.ylim(*ylim)\n",
    "    plt.xlabel(\"Training examples\")\n",
    "    plt.ylabel(\"Score\")\n",
    "    train_sizes, train_scores, test_scores = learning_curve(estimator, X, y, cv=cv, n_jobs=n_jobs, train_sizes=train_sizes)\n",
    "    train_scores_mean = np.mean(train_scores, axis=1)\n",
    "    train_scores_std = np.std(train_scores, axis=1)\n",
    "    test_scores_mean = np.mean(test_scores, axis=1)\n",
    "    test_scores_std = np.std(test_scores, axis=1)\n",
    "    plt.grid()\n",
    "\n",
    "    plt.fill_between(train_sizes, train_scores_mean - train_scores_std, train_scores_mean + train_scores_std, alpha=0.1,color=\"r\")\n",
    "    plt.fill_between(train_sizes, test_scores_mean - test_scores_std, test_scores_mean + test_scores_std, alpha=0.1, color=\"g\")\n",
    "    plt.plot(train_sizes, train_scores_mean, 'o-', color=\"r\", label=\"Training score\")\n",
    "    plt.plot(train_sizes, test_scores_mean, 'o-', color=\"g\", label=\"Cross-validation score\")\n",
    "\n",
    "    plt.legend(loc=\"best\")\n",
    "    return plt"
   ]
  },
  {
   "cell_type": "markdown",
   "metadata": {},
   "source": [
    "Using a stratified cross-validation and a randomized search, hunt for the best Random Forest classifier and plot its learning curve."
   ]
  },
  {
   "cell_type": "code",
   "execution_count": 25,
   "metadata": {},
   "outputs": [
    {
     "name": "stdout",
     "output_type": "stream",
     "text": [
      "Random Forest: 0.8282828282828283 / {'n_estimators': 1000, 'min_samples_split': 4, 'min_samples_leaf': 1, 'max_features': 2, 'max_depth': 10}\n"
     ]
    },
    {
     "data": {
      "image/png": "[encoded data removed]",
      "text/plain": [
       "<Figure size 432x288 with 1 Axes>"
      ]
     },
     "metadata": {
      "needs_background": "light"
     },
     "output_type": "display_data"
    }
   ],
   "source": [
    "from sklearn.model_selection import RandomizedSearchCV\n",
    "from sklearn.model_selection import StratifiedKFold, KFold\n",
    "from sklearn.ensemble import RandomForestClassifier\n",
    "\n",
    "kfold = StratifiedKFold(n_splits=10)\n",
    "\n",
    "rf_params = {\n",
    "    'n_estimators': [1000],\n",
    "    'max_features': [1, 2, 3],\n",
    "    'max_depth': [8, 10, 12, 14],\n",
    "    'min_samples_split': [2, 3, 4],\n",
    "    'min_samples_leaf': [1, 2, 3]\n",
    "}\n",
    "cv_rf = RandomizedSearchCV(\n",
    "    RandomForestClassifier(bootstrap=False),\n",
    "    rf_params,\n",
    "    n_iter=100, cv=kfold, scoring='accuracy', random_state=42, n_jobs=-1, iid=True, refit=True)\n",
    "cv_rf.fit(features, labels)\n",
    "print('Random Forest: {} / {}'.format(cv_rf.best_score_, cv_rf.best_params_))\n",
    "\n",
    "plot_learning_curve(cv_rf.best_estimator_, 'Random Forest', features, labels, cv=kfold)\n",
    "plt.show()"
   ]
  },
  {
   "cell_type": "markdown",
   "metadata": {},
   "source": [
    "Using the best estimator found in the search, predict and submit."
   ]
  },
  {
   "cell_type": "code",
   "execution_count": 26,
   "metadata": {},
   "outputs": [
    {
     "name": "stdout",
     "output_type": "stream",
     "text": [
      "[0 1 0 0 1 0 0 1 1 0 0 0 1 0 1 1 0 0 1 1 0 0 1 0 1 0 1 0 1 0 0 0 1 0 1 0 0\n",
      " 0 0 1 0 0 0 1 1 0 0 0 1 1 0 0 1 1 0 0 0 0 0 1 0 0 0 1 0 1 1 0 0 1 1 0 1 0\n",
      " 1 0 0 1 0 1 1 0 0 0 0 0 1 0 1 0 0 0 1 0 0 0 1 0 1 0 1 0 0 0 0 0 0 0 0 0 0\n",
      " 1 1 1 1 0 0 1 0 1 1 0 1 0 0 1 0 1 0 0 0 0 0 0 0 0 0 0 0 0 0 0 0 0 0 0 0 0\n",
      " 0 0 1 0 0 1 0 0 1 1 0 1 1 1 1 0 0 1 0 0 1 0 0 0 0 0 0 1 1 1 1 1 0 0 1 0 1\n",
      " 0 1 0 0 0 0 0 0 0 0 0 1 1 0 0 1 0 0 1 0 0 1 0 1 0 0 0 0 1 1 0 1 0 1 0 1 0\n",
      " 1 0 1 0 0 1 0 0 0 1 0 0 0 0 0 0 1 1 1 1 1 0 0 0 1 0 1 0 1 0 0 0 0 0 0 0 1\n",
      " 0 0 0 1 1 0 0 0 0 0 0 0 0 1 1 0 1 0 0 0 0 0 0 1 0 1 0 0 0 0 0 0 0 0 0 0 0\n",
      " 1 0 0 0 0 0 0 0 1 1 0 0 0 0 0 0 0 1 1 1 0 0 0 0 0 0 0 0 1 0 1 0 0 0 1 0 0\n",
      " 1 0 0 0 0 0 0 0 0 0 1 0 1 0 1 0 1 1 0 0 0 1 0 1 0 0 1 0 1 1 0 1 0 0 0 1 1\n",
      " 0 1 0 0 1 1 0 0 0 0 0 0 0 1 0 1 0 0 0 0 0 1 0 0 0 1 0 1 0 0 1 0 1 0 0 1 0\n",
      " 0 1 1 1 1 1 0 1 0 0 0]\n",
      "Done!\n"
     ]
    }
   ],
   "source": [
    "predicted_survival = cv_rf.best_estimator_.predict(test)\n",
    "print(predicted_survival)\n",
    "\n",
    "submission = pd.DataFrame({\n",
    "    'PassengerId': test_passenger_ids,\n",
    "    'Survived': predicted_survival\n",
    "})\n",
    "submission.to_csv('./submissions/final.csv', index=False)\n",
    "\n",
    "print('Done!')"
   ]
  },
  {
   "cell_type": "markdown",
   "metadata": {},
   "source": [
    "A bonus - plot the ROC curve for the entire cross-validation using the best estimator.  After the initial prediction, I did this to check the accuracy of the model in more detail and to see if I could alter the threshold using `predict_proba()` instead of just `predict()` to get a higher score.\n",
    "\n",
    "In this case, tuning the threshold made the results worse, although some of the individual splits did show significant increase with higher thresholds.  The mean result, however, did not.\n",
    "\n",
    "Regardless, code follows for predicting probabilities of binary classification problems using a threshold."
   ]
  },
  {
   "cell_type": "code",
   "execution_count": 42,
   "metadata": {},
   "outputs": [
    {
     "data": {
      "image/png": "[encoded data removed]",
      "text/plain": [
       "<Figure size 720x720 with 1 Axes>"
      ]
     },
     "metadata": {
      "needs_background": "light"
     },
     "output_type": "display_data"
    }
   ],
   "source": [
    "from sklearn.metrics import roc_curve, auc\n",
    "from scipy import interp\n",
    "\n",
    "plt.figure(figsize=(10, 10))\n",
    "\n",
    "tprs = []\n",
    "aucs = []\n",
    "mean_fpr = np.linspace(0, 1, 100)\n",
    "i = 0\n",
    "for train_idx, test_idx in kfold.split(features, labels):\n",
    "    probas = cv_rf.best_estimator_.fit(features.iloc[train_idx], labels.iloc[train_idx]).predict_proba(features.iloc[test_idx])\n",
    "    fpr, tpr, thresholds = roc_curve(labels.iloc[test_idx], probas[:, 1])\n",
    "    tprs.append(interp(mean_fpr, fpr, tpr))\n",
    "    tprs[-1][0] = 0.0\n",
    "    roc_auc = auc(fpr, tpr)\n",
    "    aucs.append(roc_auc)\n",
    "    plt.plot(fpr, tpr, lw=1, alpha=0.3, label='ROC fold %d (AUC = %0.2f)' % (i, roc_auc))\n",
    "    i += 1\n",
    "#end\n",
    "\n",
    "plt.plot([0, 1], [0, 1], linestyle='--', lw=2, color='r', label='Chance', alpha=.8)\n",
    "mean_tpr = np.mean(tprs, axis=0)\n",
    "mean_tpr[-1] = 1.0\n",
    "mean_auc = auc(mean_fpr, mean_tpr)\n",
    "std_auc = np.std(aucs)\n",
    "plt.plot(mean_fpr, mean_tpr, color='b', label=r'Mean ROC (AUC = %0.2f $\\pm$ %0.2f)' % (mean_auc, std_auc), lw=2, alpha=.8)\n",
    "#\n",
    "std_tpr = np.std(tprs, axis=0)\n",
    "tprs_upper = np.minimum(mean_tpr + std_tpr, 1)\n",
    "tprs_lower = np.maximum(mean_tpr - std_tpr, 0)\n",
    "plt.fill_between(mean_fpr, tprs_lower, tprs_upper, color='grey', alpha=.2, label=r'$\\pm$ 1 std. dev.')\n",
    "#\n",
    "plt.xlim([-0.05, 1.05])\n",
    "plt.ylim([-0.05, 1.05])\n",
    "plt.xlabel('False Positive Rate')\n",
    "plt.ylabel('True Positive Rate')\n",
    "plt.title('Receiver operating characteristic example')\n",
    "plt.legend(loc=\"lower right\")\n",
    "plt.show()\n",
    "    \n",
    "\n",
    "#predicted_probs = cv_rf.best_estimator_.predict_proba(test)\n",
    "#predicted_probs = predicted_probs[:, 1]\n",
    "#predicted_probs\n",
    "\n",
    "#from sklearn.metrics import precision_recall_curve, auc\n",
    "#precision, recall, thresholds = precision_recall_curve(labels)"
   ]
  },
  {
   "cell_type": "code",
   "execution_count": 1,
   "metadata": {},
   "outputs": [],
   "source": [
    "#predict_probabs = cv_rf.best_estimator_.predict_proba(test)\n",
    "#predict_probabs = predict_probabs[:, 1]\n",
    "\n",
    "#predicted_survival = (predict_probabs >= 0.65).astype(int)\n",
    "#print(predicted_survival)\n",
    "\n",
    "#submission = pd.DataFrame({\n",
    "#    'PassengerId': test_passenger_ids,\n",
    "#    'Survived': predicted_survival\n",
    "#})\n",
    "#submission.to_csv('./submissions/final_proba.csv', index=False)\n",
    "\n",
    "#print('Done!')"
   ]
  }
 ],
 "metadata": {
  "kernelspec": {
   "display_name": "Python 3",
   "language": "python",
   "name": "python3"
  },
  "language_info": {
   "codemirror_mode": {
    "name": "ipython",
    "version": 3
   },
   "file_extension": ".py",
   "mimetype": "text/x-python",
   "name": "python",
   "nbconvert_exporter": "python",
   "pygments_lexer": "ipython3",
   "version": "3.7.3"
  },
  "varInspector": {
   "cols": {
    "lenName": 16,
    "lenType": 16,
    "lenVar": 40
   },
   "kernels_config": {
    "python": {
     "delete_cmd_postfix": "",
     "delete_cmd_prefix": "del ",
     "library": "var_list.py",
     "varRefreshCmd": "print(var_dic_list())"
    },
    "r": {
     "delete_cmd_postfix": ") ",
     "delete_cmd_prefix": "rm(",
     "library": "var_list.r",
     "varRefreshCmd": "cat(var_dic_list()) "
    }
   },
   "types_to_exclude": [
    "module",
    "function",
    "builtin_function_or_method",
    "instance",
    "_Feature"
   ],
   "window_display": false
  }
 },
 "nbformat": 4,
 "nbformat_minor": 2
}
